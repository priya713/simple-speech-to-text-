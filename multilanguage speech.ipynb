{
 "cells": [
  {
   "cell_type": "code",
   "execution_count": 4,
   "id": "e872ab11",
   "metadata": {},
   "outputs": [],
   "source": [
    "import speech_recognition\n",
    "import  pyaudio\n",
    "import speech_recognition as sr"
   ]
  },
  {
   "cell_type": "code",
   "execution_count": null,
   "id": "31ed7f42",
   "metadata": {},
   "outputs": [
    {
     "name": "stdout",
     "output_type": "stream",
     "text": [
      "Speak Now\n",
      "Listening.....\n",
      "result2:\n",
      "{   'alternative': [   {'confidence': 0.88687539, 'transcript': 'थैंक यू'},\n",
      "                       {'transcript': 'थैंक यू'}],\n",
      "    'final': True}\n",
      "Speaker थैंक यू\n",
      "result2:\n",
      "{   'alternative': [{'confidence': 0.85019755, 'transcript': 'தேங்க்யூ'}],\n",
      "    'final': True}\n",
      "Speaker தேங்க்யூ\n",
      "result2:\n",
      "{   'alternative': [   {'confidence': 0.80850011, 'transcript': 'താങ്ക്യൂ'},\n",
      "                       {'transcript': 'താങ്ക്യൂ യൂ'},\n",
      "                       {'transcript': 'താങ്ക്\\u200cയൂ'}],\n",
      "    'final': True}\n",
      "Speaker താങ്ക്യൂ\n",
      "result2:\n",
      "{   'alternative': [   {'confidence': 0.74976295, 'transcript': 'ಥ್ಯಾಂಕ್ಯು'},\n",
      "                       {'transcript': 'ಥ್ಯಾಂಕ್ ಯು'},\n",
      "                       {'transcript': 'ಥ್ಯಾಂಕ್ಯೂ'},\n",
      "                       {'transcript': 'ಥ್ಯಾಂಕ್ ಯೂ'},\n",
      "                       {'transcript': 'ಥಾಂಕ್ ಯು'}],\n",
      "    'final': True}\n",
      "Speaker ಥ್ಯಾಂಕ್ಯು\n",
      "result2:\n",
      "{   'alternative': [   {   'confidence': 0.47746739,\n",
      "                           'transcript': 'thank you in English'},\n",
      "                       {'confidence': 0.88092375, 'transcript': 'thank you'},\n",
      "                       {   'confidence': 0.47746739,\n",
      "                           'transcript': 'thanked you in English'},\n",
      "                       {'confidence': 0.88092375, 'transcript': 'thanked you'},\n",
      "                       {   'confidence': 0.47746739,\n",
      "                           'transcript': 'Thang you in English'}],\n",
      "    'final': True}\n",
      "Speaker thank you in English\n",
      "result2:\n",
      "{   'alternative': [   {'confidence': 0.88687539, 'transcript': 'thank you'},\n",
      "                       {'transcript': 'thank u'},\n",
      "                       {'transcript': 'thac you'},\n",
      "                       {'transcript': 'thanq you'},\n",
      "                       {'transcript': 'thankq you'}],\n",
      "    'final': True}\n",
      "Speaker thank you\n",
      "Speak Now\n",
      "Listening.....\n"
     ]
    }
   ],
   "source": [
    "r= sr.Recognizer()\n",
    "while True: #convert speech to text in real time\n",
    "    with sr.Microphone() as source:\n",
    "        #clear background noise\n",
    "        r.adjust_for_ambient_noise(source, duration=0.3)\n",
    "        \n",
    "        print(\"Speak Now\")\n",
    "        print(\"Listening.....\")\n",
    "        #capture the audio\n",
    "        audio = r.listen(source)\n",
    "        text=r.recognize_google(audio,language='hi-IN')\n",
    "        print(\"Speaker\",text)\n",
    "        text=r.recognize_google(audio,language='ta-IN')\n",
    "        print(\"Speaker\",text)\n",
    "        text=r.recognize_google(audio,language='ml')\n",
    "        print(\"Speaker\",text)\n",
    "        text=r.recognize_google(audio,language='kn')\n",
    "        print(\"Speaker\",text)\n",
    "        text=r.recognize_google(audio,language='sa')\n",
    "        print(\"Speaker\",text)\n",
    "        #text=r.recognize_google(audio,language='gu')\n",
    "        #print(\"Speaker\",text)\n",
    "        #text=r.recognize_google(audio,language='pa')\n",
    "        #print(\"Speaker\",text)\n",
    "        \n",
    "        text=r.recognize_google(audio)\n",
    "        print(\"Speaker\",text)\n",
    "        if text==\"quit\":\n",
    "                break\n",
    "        \n"
   ]
  },
  {
   "cell_type": "markdown",
   "id": "ed3071b5",
   "metadata": {},
   "source": []
  }
 ],
 "metadata": {
  "kernelspec": {
   "display_name": "Python 3 (ipykernel)",
   "language": "python",
   "name": "python3"
  },
  "language_info": {
   "codemirror_mode": {
    "name": "ipython",
    "version": 3
   },
   "file_extension": ".py",
   "mimetype": "text/x-python",
   "name": "python",
   "nbconvert_exporter": "python",
   "pygments_lexer": "ipython3",
   "version": "3.9.13"
  }
 },
 "nbformat": 4,
 "nbformat_minor": 5
}
